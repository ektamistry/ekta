{
  "nbformat": 4,
  "nbformat_minor": 0,
  "metadata": {
    "colab": {
      "name": "Luck_Analysis_Game.ipynb",
      "provenance": [],
      "collapsed_sections": [],
      "include_colab_link": true
    },
    "kernelspec": {
      "name": "python3",
      "display_name": "Python 3"
    },
    "language_info": {
      "name": "python"
    }
  },
  "cells": [
    {
      "cell_type": "markdown",
      "metadata": {
        "id": "view-in-github",
        "colab_type": "text"
      },
      "source": [
        "<a href=\"https://colab.research.google.com/github/ektamistry/ekta/blob/main/Luck_Analysis_Game.ipynb\" target=\"_parent\"><img src=\"https://colab.research.google.com/assets/colab-badge.svg\" alt=\"Open In Colab\"/></a>"
      ]
    },
    {
      "cell_type": "markdown",
      "metadata": {
        "id": "PH25ztdF50fE"
      },
      "source": [
        "##**RPET Project**"
      ]
    },
    {
      "cell_type": "markdown",
      "metadata": {
        "id": "HArYv4qv5hK3"
      },
      "source": [
        "####**Aim of the Project:** Analysis of gameplay in a multiplayer Teen Patti game.\n"
      ]
    },
    {
      "cell_type": "code",
      "metadata": {
        "id": "HXb6JYtXTUJa"
      },
      "source": [
        "import random\n",
        "import numpy as np\n",
        "import matplotlib.pyplot as plt"
      ],
      "execution_count": null,
      "outputs": []
    },
    {
      "cell_type": "markdown",
      "metadata": {
        "id": "DEOopYWYThQ6"
      },
      "source": [
        "**Cards Sets**"
      ]
    },
    {
      "cell_type": "markdown",
      "metadata": {
        "id": "0ptzHoK24Re9"
      },
      "source": [
        "*Initialising Universal Sets or deck of Cards*"
      ]
    },
    {
      "cell_type": "markdown",
      "metadata": {
        "id": "Kh5UHmeM45Bn"
      },
      "source": [
        "\n",
        "*11 = Jack*\n",
        "\n",
        "*12 = Queen*\n",
        "\n",
        "*13 = King*\n",
        "\n",
        "*14 = Ace*"
      ]
    },
    {
      "cell_type": "code",
      "metadata": {
        "id": "9LN-NwRATSJP"
      },
      "source": [
        "shapes={\"Hearts\":'H',\"Spades\":'S',\"Clubs\":'C',\"Diamonds\":'D'}                   # Set/Dictionary of Shapes\n",
        "numbers= np.array([2, 3, 4, 5, 6, 7, 8, 9, 10, 11 ,12 ,13, 14])                 # Array Of Numbers"
      ],
      "execution_count": null,
      "outputs": []
    },
    {
      "cell_type": "markdown",
      "metadata": {
        "id": "WOvjN8i74Wb0"
      },
      "source": [
        "*Picking 3 random cards per set of random Shape and Colour using the random function*"
      ]
    },
    {
      "cell_type": "code",
      "metadata": {
        "id": "ZE09DHmKoHsj"
      },
      "source": [
        "def CardInitialise():\n",
        "  Cards=[]\n",
        "  for i in range(3):                                                            # Initialising Cards\n",
        "    Shape=random.choice(list(shapes.values()))\n",
        "    Numbers=random.choice(numbers)\n",
        "    Cards.append(Shape)\n",
        "    Cards.append(Numbers)\n",
        "  return Cards"
      ],
      "execution_count": null,
      "outputs": []
    },
    {
      "cell_type": "markdown",
      "metadata": {
        "id": "5g77Q9L3QbJM"
      },
      "source": [
        "\n",
        "*Yes = 1.*\n",
        "\n",
        "*No = 0.*"
      ]
    },
    {
      "cell_type": "markdown",
      "metadata": {
        "id": "i-v-Bd-_4epc"
      },
      "source": [
        "*Checking if the picked 3 Cards are of the same colour or not*"
      ]
    },
    {
      "cell_type": "code",
      "metadata": {
        "id": "XBJSfJdoTMpP"
      },
      "source": [
        "def ColorCheck(Cards):      \n",
        "  Color = 0                                                                     # Color of cards adding to the weight\n",
        "  j = Cards[0]                                                                  # Counter for Colors\n",
        "  for i in range(0,5,2):                                                        # Checking for Colors Matching\n",
        "    if j == Cards[i]:\n",
        "      Color+=1                                                                  # Counter Value\n",
        "  if Color == 3:\n",
        "    return 1                                                                 \n",
        "  return 0"
      ],
      "execution_count": null,
      "outputs": []
    },
    {
      "cell_type": "markdown",
      "metadata": {
        "id": "8UYJOzRV4jod"
      },
      "source": [
        "*Checking if the cards have two cards of the same number irrespective of having a trio*"
      ]
    },
    {
      "cell_type": "code",
      "metadata": {
        "id": "9XljxLtmo4NR"
      },
      "source": [
        "def Double(Cards):      \n",
        "  if Cards[1] == Cards[3] or Cards[1] == Cards[5] or Cards[5]==Cards[3]:        # Checking for Double cards\n",
        "    return 1  \n",
        "  else:                                                               \n",
        "    return 0"
      ],
      "execution_count": null,
      "outputs": []
    },
    {
      "cell_type": "markdown",
      "metadata": {
        "id": "u8MF8Lmv4sUE"
      },
      "source": [
        "*Checking for a trio in the set, 3 cards of the same Number*"
      ]
    },
    {
      "cell_type": "code",
      "metadata": {
        "id": "caSlyqIcTFCk"
      },
      "source": [
        "def Trio(Cards):      \n",
        "  Trio = 0                                                                      # Trio adding to the weight\n",
        "  j = Cards[1]                                                                  # Counter for Triple\n",
        "  for i in range(1,6,2):                                                        # Checking for Matching Cards\n",
        "    if j == Cards[i]:\n",
        "      Trio+=1                                                                   # Counter Value\n",
        "  if Trio == 3:\n",
        "    return 1                                                                 \n",
        "  return 0"
      ],
      "execution_count": null,
      "outputs": []
    },
    {
      "cell_type": "markdown",
      "metadata": {
        "id": "JJYLp5_44EvR"
      },
      "source": [
        "*We check for Sequence of Cards in Any order with one exception sequence of Ace, King, Queen*"
      ]
    },
    {
      "cell_type": "code",
      "metadata": {
        "id": "4urbPVJbpty1"
      },
      "source": [
        "def Sequence(Cards): \n",
        "\n",
        "  Sequence = 0 \n",
        "  if Cards[1]==14:                                                              # Exception Case Ace, Two Three/ Cards aren't sorted so we check all possible cases\n",
        "    if (Cards[3]==2):\n",
        "      if (Cards[5]==3):\n",
        "        Sequence = 2\n",
        "    elif Cards[3] == 3:\n",
        "      if Cards[5] == 2:\n",
        "        Sequence = 2\n",
        "  if Cards[1]==2:\n",
        "    if Cards[3]==3:\n",
        "      if Cards[5] == 14:\n",
        "        Sequence = 2\n",
        "    elif Cards[3] == 1:\n",
        "      if Cards[5] == 3:\n",
        "        Sequence = 2\n",
        "  if Cards[1]==3:\n",
        "    if Cards[3]==14:\n",
        "      if Cards[5] == 2:\n",
        "        Sequence = 2\n",
        "    elif Cards[3] == 2:\n",
        "      if Cards[5] == 14:\n",
        "        Sequence = 2\n",
        "  else:\n",
        "    values=[]\n",
        "    for i in range(1,6,2):  \n",
        "      values.append(Cards[i])\n",
        "    values.sort()                                                               # We pick the card values and sort them to check if they are in a particular sequence\n",
        "    if values[0] + 1 == values[1] and values[2] - 1 == values[1]:\n",
        "      Sequence = 2                                                              \n",
        "  if Sequence == 2:\n",
        "    return 1\n",
        "  else:                                                                 \n",
        "    return 0\n"
      ],
      "execution_count": null,
      "outputs": []
    },
    {
      "cell_type": "markdown",
      "metadata": {
        "id": "fxWgzf4i5UUG"
      },
      "source": [
        "*If it's a color set and Sequence its a pure Sequence*"
      ]
    },
    {
      "cell_type": "code",
      "metadata": {
        "id": "6_7zYVHhqf7z"
      },
      "source": [
        "def PureSequence(Cards):\n",
        "  x = ColorCheck(Cards)                                                         # Calling Color Check Function and taking its returned value\n",
        "  y = Sequence(Cards)                                                           # Calling Sequence Function and taking its returned value\n",
        "  x = x+y                                                                       # Checking if both the functions return a true value\n",
        "  if x == 2:\n",
        "    return 1\n",
        "  else:\n",
        "    return 0"
      ],
      "execution_count": null,
      "outputs": []
    },
    {
      "cell_type": "markdown",
      "metadata": {
        "id": "qN1r0vrE5tzF"
      },
      "source": [
        "*Checking for the Highest Card of the Set*"
      ]
    },
    {
      "cell_type": "code",
      "metadata": {
        "id": "9I70Rzpj7nVI"
      },
      "source": [
        "def HighCard(Cards):\n",
        "  Number=[]\n",
        "  for i in range(1,6,2):\n",
        "    Number.append(Cards[i])                                                     \n",
        "  Max_Val=max(Number)                                                           # Extracting and returning the Maximum value of the Card set\n",
        "  return (Max_Val)\n",
        "  "
      ],
      "execution_count": null,
      "outputs": []
    },
    {
      "cell_type": "markdown",
      "metadata": {
        "id": "xgYb3rbS_XIx"
      },
      "source": [
        "\n",
        "\n",
        "*Checking for the Second Highest Card of the Set*"
      ]
    },
    {
      "cell_type": "code",
      "metadata": {
        "id": "R2GIdqgd_Shv"
      },
      "source": [
        "def SecondHighCard(Cards):\n",
        "  Number=[]\n",
        "  for i in range(1,6,2):\n",
        "    Number.append(Cards[i])                                                     \n",
        "  Number.sort()                                                                 # Extracting and returning the Maximum value of the Card set\n",
        "  return (Number[1])"
      ],
      "execution_count": null,
      "outputs": []
    },
    {
      "cell_type": "markdown",
      "metadata": {
        "id": "h9wrgIg-5-I-"
      },
      "source": [
        "*Giving the game a score from 2 to 84, where 1 being the worst an 83 being the best*"
      ]
    },
    {
      "cell_type": "code",
      "metadata": {
        "id": "iMPsVA09SlOd"
      },
      "source": [
        "def Game():\n",
        "  cards=CardInitialise()\n",
        "  game=0\n",
        "  if Trio(cards)==1:                                                            # Trio gets  the top priority of 145 + the Highest Card/s Value\n",
        "    game=145\n",
        "  elif PureSequence(cards)==1:\n",
        "    game=116\n",
        "  elif Sequence(cards)==1:\n",
        "    game=87\n",
        "  elif ColorCheck(cards)==1:\n",
        "    game=58\n",
        "  elif Double(cards)==1:                                                        # Double gets the lowest priority after High card having value 29 + Highest Card/s Value\n",
        "    game=29\n",
        "    \n",
        "  x = HighCard(cards)\n",
        "  y = SecondHighCard(cards)\n",
        "  game = game + x + y\n",
        "  return game"
      ],
      "execution_count": null,
      "outputs": []
    },
    {
      "cell_type": "markdown",
      "metadata": {
        "id": "tEa_HnJc6kW2"
      },
      "source": [
        "*Input function of the code where number of players is initalised and the value of their game and their names are stored in a respective array*"
      ]
    },
    {
      "cell_type": "code",
      "metadata": {
        "id": "qBZbscw7s3QF"
      },
      "source": [
        "def IO(no_of_players):\n",
        "  Num = no_of_players                                                           # Number of Players are user defined in the Gamble Function function\n",
        "  grade=[]                                                                      # Stores the Game Value of each set\n",
        "  for i in range(Num):                                                                                                                \n",
        "    Player_Score = Game()\n",
        "    grade.append(Player_Score)\n",
        "  Winner = max(grade)                                                           # The max value is stored in winner\n",
        "  for i in range(0,Num):\n",
        "    if Winner == grade[i]:                                                      # Position of the Winner Value that corresponds to the Name \n",
        "      position = i\n",
        "  return position\n"
      ],
      "execution_count": null,
      "outputs": []
    },
    {
      "cell_type": "code",
      "metadata": {
        "id": "p6n7xbIgi-0q"
      },
      "source": [
        "no_of_games=np.arange(start=1, stop=101)                                        # Numpy array to create a scale for X axis"
      ],
      "execution_count": null,
      "outputs": []
    },
    {
      "cell_type": "markdown",
      "metadata": {
        "id": "8ZHOLJG9kilL"
      },
      "source": [
        "*The most Important Gamble Function that does most of the processing*"
      ]
    },
    {
      "cell_type": "code",
      "metadata": {
        "id": "McCB2PRDZdRs"
      },
      "source": [
        "def Gamble():\n",
        "  no_of_players = int(input(\"Enter numbers of players: \"))                      # Number of Players in the Game\n",
        "  Money = []                                                                    # Array for start of Money\n",
        "  names = []\n",
        "  GamePlay = []\n",
        "  player_game = []\n",
        "  Luck=[0]*no_of_players\n",
        "  for i in range(0,no_of_players):\n",
        "    y=input(\"Enter name of Player: \")                                           # Entering names of Players\n",
        "    names.append(y)\n",
        "    start = int(input(\"Enter Money:\"))                                          # Entering Money they start the game with\n",
        "    Money.append(start)\n",
        "  print(\"\\n \\nPlayers Playing are: \")\n",
        "  for i in range(0,no_of_players):\n",
        "    print(i+1,\".\", names[i],\" with Rs.\", Money[i])\n",
        "  player_no = int(input(\"Enter the number of Player, who's statistical Analysis is required: \"))\n",
        "  print(\"Here is your analysis for Mr. / Ms.\",names[player_no-1])\n",
        "  for j in range(0,100):\n",
        "    Winnerrank = IO(no_of_players)                                              # Processing the Position of the Winner\n",
        "    for k in range(0,no_of_players):\n",
        "      Money[k] = Money[k] - 10                                                  # Pot Money for the Game\n",
        "    Money[Winnerrank] = Money[Winnerrank] + no_of_players*10                    # Rewarding the Money\n",
        "    Luck[Winnerrank]=Luck[Winnerrank]+1                                         # Luck Factor\n",
        "    for a in range(0,no_of_players):\n",
        "      GamePlay.append(Money[a])                                                 \n",
        "  for i in range(player_no-1, 100*no_of_players, no_of_players):\n",
        "    x = GamePlay[i]\n",
        "    player_game.append(x)\n",
        "  plt.plot(no_of_games,player_game)                                             # Plotting Graph\n",
        "  plt.xlabel(\"Game Number ---->\")\n",
        "  plt.xticks(range(0,100,10))\n",
        "  plt.ylabel(\"Money Values---->\")\n",
        "  plt.title(\"Player {0} Gameplay\".format(names[player_no-1]))                   # Title Of the Graph\n",
        "  return Luck[player_no-1]                                                        \n",
        "\n"
      ],
      "execution_count": null,
      "outputs": []
    },
    {
      "cell_type": "code",
      "metadata": {
        "id": "6Pd6pZ3rpEnc"
      },
      "source": [
        "def StartIntroduction():                                                        # Introductory Regulations for the Game\n",
        "  print(\"*****Welcome to the Gamble of Luck*****\")\n",
        "  print(\"\\nYour Luck will be tested here over everything else\")\n",
        "  print(\"\\nThe more the players the better efficiency\")\n",
        "  print(\"\\nGo ahead and try your luck in the Gamble of the traditional Teen Patti Game\\n\")"
      ],
      "execution_count": null,
      "outputs": []
    },
    {
      "cell_type": "code",
      "metadata": {
        "id": "OcdXc24EeLdS"
      },
      "source": [
        "def LuckyFactor():                                                              # The main function\n",
        "  Luck_Factor = Gamble()                                                        # The luck Percentage gets initialised and stored\n",
        "  print(\"Luck Factor is:\", Luck_Factor,\"%\")\n",
        "  if Luck_Factor<50:                                                             \n",
        "    print(\"\\nBetter Luck Next Time\")\n",
        "  elif Luck_Factor >= 50:                                                       # It's your luck day if this is executed\n",
        "    print(\"\\nWooohooo It's your Lucky Day \\n \\n Buy a Lottery ;)\")\n"
      ],
      "execution_count": null,
      "outputs": []
    },
    {
      "cell_type": "code",
      "metadata": {
        "colab": {
          "base_uri": "https://localhost:8080/",
          "height": 833
        },
        "id": "IMOhZW1YeS9q",
        "outputId": "4e50ae60-0ac3-498b-b6fd-9b9d4f2e3a00"
      },
      "source": [
        "#Time to call all the functions\n",
        "StartIntroduction()\n",
        "LuckyFactor() "
      ],
      "execution_count": null,
      "outputs": [
        {
          "output_type": "stream",
          "name": "stdout",
          "text": [
            "*****Welcome to the Gamble of Luck*****\n",
            "\n",
            "Your Luck will be tested here over everything else\n",
            "\n",
            "The more the players the better efficiency\n",
            "\n",
            "Go ahead and try your luck in the Gamble of the traditional Teen Patti Game\n",
            "\n",
            "Enter numbers of players: 5\n",
            "Enter name of Player: pradeep sir\n",
            "Enter Money:1000\n",
            "Enter name of Player: raj\n",
            "Enter Money:1500\n",
            "Enter name of Player: pri\n",
            "Enter Money:1000\n",
            "Enter name of Player: ekta\n",
            "Enter Money:1500\n",
            "Enter name of Player: rohit\n",
            "Enter Money:2000\n",
            "\n",
            " \n",
            "Players Playing are: \n",
            "1 . pradeep sir  with Rs. 1000\n",
            "2 . raj  with Rs. 1500\n",
            "3 . pri  with Rs. 1000\n",
            "4 . ekta  with Rs. 1500\n",
            "5 . rohit  with Rs. 2000\n",
            "Enter the number of Player, who's statistical Analysis is required: 1\n",
            "Here is your analysis for Mr. / Ms. pradeep sir\n",
            "Luck Factor is: 20 %\n",
            "\n",
            "Better Luck Next Time\n"
          ]
        },
        {
          "output_type": "display_data",
          "data": {
            "image/png": "[encoded data removed]",
            "text/plain": [
              "<Figure size 432x288 with 1 Axes>"
            ]
          },
          "metadata": {
            "needs_background": "light"
          }
        }
      ]
    },
    {
      "cell_type": "markdown",
      "metadata": {
        "id": "QgdX44mi6AIn"
      },
      "source": [
        "####**Conclusion:** \n",
        "Recreated a Teen Patti Game and analyzed the luck factor and performance of a particular player."
      ]
    },
    {
      "cell_type": "code",
      "metadata": {
        "colab": {
          "base_uri": "https://localhost:8080/"
        },
        "id": "zaOxLofD6ZYT",
        "outputId": "b614cab7-9fc6-429c-e9fe-c5c245e6aa89"
      },
      "source": [
        "! jupyter nbconvert --to html Luck_Analysis.ipynb"
      ],
      "execution_count": null,
      "outputs": [
        {
          "output_type": "stream",
          "name": "stdout",
          "text": [
            "[NbConvertApp] Converting notebook Luck_Analysis.ipynb to html\n",
            "[NbConvertApp] Writing 343523 bytes to Luck_Analysis.html\n"
          ]
        }
      ]
    }
  ]
}